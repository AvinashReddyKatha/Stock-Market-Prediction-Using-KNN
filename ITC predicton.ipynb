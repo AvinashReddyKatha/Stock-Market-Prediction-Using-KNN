{
 "cells": [
  {
   "cell_type": "markdown",
   "metadata": {},
   "source": [
    "##  ITC STOCK MARKETING PRICE PREDICTION FROM  [01-09-2023 to 31-10-2023(3 Months)]\n",
    "### DATASET FROM NSE India (National Stock Exchange of India Ltd)\n",
    "### K-NEAREST-NEIGHBORS"
   ]
  },
  {
   "cell_type": "code",
   "execution_count": 1,
   "metadata": {},
   "outputs": [],
   "source": [
    "import warnings \n",
    "warnings.filterwarnings('ignore')"
   ]
  },
  {
   "cell_type": "code",
   "execution_count": 2,
   "metadata": {},
   "outputs": [],
   "source": [
    "import numpy as np\n",
    "import pandas as pd\n",
    "\n",
    "import matplotlib.pyplot as plt\n",
    "\n",
    "from sklearn.neighbors import KNeighborsClassifier\n",
    "from sklearn.metrics import accuracy_score\n"
   ]
  },
  {
   "cell_type": "code",
   "execution_count": 3,
   "metadata": {},
   "outputs": [
    {
     "data": {
      "text/html": [
       "<div>\n",
       "<style scoped>\n",
       "    .dataframe tbody tr th:only-of-type {\n",
       "        vertical-align: middle;\n",
       "    }\n",
       "\n",
       "    .dataframe tbody tr th {\n",
       "        vertical-align: top;\n",
       "    }\n",
       "\n",
       "    .dataframe thead th {\n",
       "        text-align: right;\n",
       "    }\n",
       "</style>\n",
       "<table border=\"1\" class=\"dataframe\">\n",
       "  <thead>\n",
       "    <tr style=\"text-align: right;\">\n",
       "      <th></th>\n",
       "      <th>Date</th>\n",
       "      <th>OPEN</th>\n",
       "      <th>HIGH</th>\n",
       "      <th>LOW</th>\n",
       "      <th>close</th>\n",
       "      <th>VOLUME</th>\n",
       "    </tr>\n",
       "  </thead>\n",
       "  <tbody>\n",
       "    <tr>\n",
       "      <th>0</th>\n",
       "      <td>24-Nov-2023</td>\n",
       "      <td>261.40</td>\n",
       "      <td>261.90</td>\n",
       "      <td>257.05</td>\n",
       "      <td>258.15</td>\n",
       "      <td>71,53,583</td>\n",
       "    </tr>\n",
       "    <tr>\n",
       "      <th>1</th>\n",
       "      <td>23-Nov-2023</td>\n",
       "      <td>262.10</td>\n",
       "      <td>263.75</td>\n",
       "      <td>259.80</td>\n",
       "      <td>260.75</td>\n",
       "      <td>54,66,513</td>\n",
       "    </tr>\n",
       "    <tr>\n",
       "      <th>2</th>\n",
       "      <td>22-Nov-2023</td>\n",
       "      <td>263.40</td>\n",
       "      <td>263.60</td>\n",
       "      <td>259.25</td>\n",
       "      <td>262.10</td>\n",
       "      <td>45,37,969</td>\n",
       "    </tr>\n",
       "    <tr>\n",
       "      <th>3</th>\n",
       "      <td>21-Nov-2023</td>\n",
       "      <td>263.75</td>\n",
       "      <td>265.40</td>\n",
       "      <td>260.75</td>\n",
       "      <td>262.65</td>\n",
       "      <td>69,31,541</td>\n",
       "    </tr>\n",
       "    <tr>\n",
       "      <th>4</th>\n",
       "      <td>20-Nov-2023</td>\n",
       "      <td>263.85</td>\n",
       "      <td>264.40</td>\n",
       "      <td>260.10</td>\n",
       "      <td>260.85</td>\n",
       "      <td>48,59,705</td>\n",
       "    </tr>\n",
       "  </tbody>\n",
       "</table>\n",
       "</div>"
      ],
      "text/plain": [
       "         Date    OPEN    HIGH     LOW   close     VOLUME \n",
       "0  24-Nov-2023  261.40  261.90  257.05  258.15  71,53,583\n",
       "1  23-Nov-2023  262.10  263.75  259.80  260.75  54,66,513\n",
       "2  22-Nov-2023  263.40  263.60  259.25  262.10  45,37,969\n",
       "3  21-Nov-2023  263.75  265.40  260.75  262.65  69,31,541\n",
       "4  20-Nov-2023  263.85  264.40  260.10  260.85  48,59,705"
      ]
     },
     "execution_count": 3,
     "metadata": {},
     "output_type": "execute_result"
    }
   ],
   "source": [
    "INFOSYS= pd.read_csv(\"Quote-Equity-ITC-EQ-01-08-2023-to-04-11-2023.csv\")\n",
    "INFOSYS = INFOSYS.dropna()\n",
    "INFOSYS = INFOSYS[[\"Date \",\"OPEN \",\"HIGH \",\"LOW \",\"close \",\"VOLUME \"]]\n",
    "\n",
    "INFOSYS.to_csv(\"Quote-Equity-ITC-EQ-01-08-2023-to-04-11-2023.csv\", index=False)\n",
    "INFOSYS.head()"
   ]
  },
  {
   "cell_type": "code",
   "execution_count": 4,
   "metadata": {},
   "outputs": [
    {
     "data": {
      "text/html": [
       "<div>\n",
       "<style scoped>\n",
       "    .dataframe tbody tr th:only-of-type {\n",
       "        vertical-align: middle;\n",
       "    }\n",
       "\n",
       "    .dataframe tbody tr th {\n",
       "        vertical-align: top;\n",
       "    }\n",
       "\n",
       "    .dataframe thead th {\n",
       "        text-align: right;\n",
       "    }\n",
       "</style>\n",
       "<table border=\"1\" class=\"dataframe\">\n",
       "  <thead>\n",
       "    <tr style=\"text-align: right;\">\n",
       "      <th></th>\n",
       "      <th>OPEN</th>\n",
       "      <th>HIGH</th>\n",
       "      <th>LOW</th>\n",
       "      <th>close</th>\n",
       "    </tr>\n",
       "  </thead>\n",
       "  <tbody>\n",
       "    <tr>\n",
       "      <th>count</th>\n",
       "      <td>127.000000</td>\n",
       "      <td>127.000000</td>\n",
       "      <td>127.000000</td>\n",
       "      <td>127.000000</td>\n",
       "    </tr>\n",
       "    <tr>\n",
       "      <th>mean</th>\n",
       "      <td>240.256299</td>\n",
       "      <td>242.524409</td>\n",
       "      <td>237.464173</td>\n",
       "      <td>239.803937</td>\n",
       "    </tr>\n",
       "    <tr>\n",
       "      <th>std</th>\n",
       "      <td>17.343473</td>\n",
       "      <td>17.548996</td>\n",
       "      <td>16.811708</td>\n",
       "      <td>17.007603</td>\n",
       "    </tr>\n",
       "    <tr>\n",
       "      <th>min</th>\n",
       "      <td>207.200000</td>\n",
       "      <td>211.200000</td>\n",
       "      <td>206.550000</td>\n",
       "      <td>210.800000</td>\n",
       "    </tr>\n",
       "    <tr>\n",
       "      <th>25%</th>\n",
       "      <td>222.825000</td>\n",
       "      <td>224.625000</td>\n",
       "      <td>220.800000</td>\n",
       "      <td>221.850000</td>\n",
       "    </tr>\n",
       "    <tr>\n",
       "      <th>50%</th>\n",
       "      <td>238.500000</td>\n",
       "      <td>241.700000</td>\n",
       "      <td>235.500000</td>\n",
       "      <td>238.250000</td>\n",
       "    </tr>\n",
       "    <tr>\n",
       "      <th>75%</th>\n",
       "      <td>256.925000</td>\n",
       "      <td>258.400000</td>\n",
       "      <td>253.900000</td>\n",
       "      <td>256.650000</td>\n",
       "    </tr>\n",
       "    <tr>\n",
       "      <th>max</th>\n",
       "      <td>276.000000</td>\n",
       "      <td>276.500000</td>\n",
       "      <td>269.150000</td>\n",
       "      <td>271.900000</td>\n",
       "    </tr>\n",
       "  </tbody>\n",
       "</table>\n",
       "</div>"
      ],
      "text/plain": [
       "            OPEN        HIGH         LOW       close \n",
       "count  127.000000  127.000000  127.000000  127.000000\n",
       "mean   240.256299  242.524409  237.464173  239.803937\n",
       "std     17.343473   17.548996   16.811708   17.007603\n",
       "min    207.200000  211.200000  206.550000  210.800000\n",
       "25%    222.825000  224.625000  220.800000  221.850000\n",
       "50%    238.500000  241.700000  235.500000  238.250000\n",
       "75%    256.925000  258.400000  253.900000  256.650000\n",
       "max    276.000000  276.500000  269.150000  271.900000"
      ]
     },
     "execution_count": 4,
     "metadata": {},
     "output_type": "execute_result"
    }
   ],
   "source": [
    "INFOSYS.describe()"
   ]
  },
  {
   "cell_type": "code",
   "execution_count": 5,
   "metadata": {},
   "outputs": [
    {
     "name": "stdout",
     "output_type": "stream",
     "text": [
      "<class 'pandas.core.frame.DataFrame'>\n",
      "RangeIndex: 127 entries, 0 to 126\n",
      "Data columns (total 6 columns):\n",
      " #   Column   Non-Null Count  Dtype  \n",
      "---  ------   --------------  -----  \n",
      " 0   Date     127 non-null    object \n",
      " 1   OPEN     127 non-null    float64\n",
      " 2   HIGH     127 non-null    float64\n",
      " 3   LOW      127 non-null    float64\n",
      " 4   close    127 non-null    float64\n",
      " 5   VOLUME   127 non-null    object \n",
      "dtypes: float64(4), object(2)\n",
      "memory usage: 6.1+ KB\n"
     ]
    }
   ],
   "source": [
    "INFOSYS.info()"
   ]
  },
  {
   "cell_type": "code",
   "execution_count": 6,
   "metadata": {},
   "outputs": [
    {
     "data": {
      "text/html": [
       "        <script type=\"text/javascript\">\n",
       "        window.PlotlyConfig = {MathJaxConfig: 'local'};\n",
       "        if (window.MathJax && window.MathJax.Hub && window.MathJax.Hub.Config) {window.MathJax.Hub.Config({SVG: {font: \"STIX-Web\"}});}\n",
       "        if (typeof require !== 'undefined') {\n",
       "        require.undef(\"plotly\");\n",
       "        requirejs.config({\n",
       "            paths: {\n",
       "                'plotly': ['https://cdn.plot.ly/plotly-2.12.1.min']\n",
       "            }\n",
       "        });\n",
       "        require(['plotly'], function(Plotly) {\n",
       "            window._Plotly = Plotly;\n",
       "        });\n",
       "        }\n",
       "        </script>\n",
       "        "
      ]
     },
     "metadata": {},
     "output_type": "display_data"
    }
   ],
   "source": [
    "import chart_studio.plotly as py\n",
    "import plotly.graph_objs as go\n",
    "from plotly.offline import plot\n",
    "\n",
    "from plotly.offline import download_plotlyjs, init_notebook_mode, plot, iplot\n",
    "init_notebook_mode(connected=True)"
   ]
  },
  {
   "cell_type": "code",
   "execution_count": 7,
   "metadata": {},
   "outputs": [],
   "source": [
    "import plotly.graph_objects as go\n",
    "\n",
    "layout = go.Layout(\n",
    "    title='STOCK PRICE OF ITC',\n",
    "    xaxis=dict(\n",
    "        title='date',\n",
    "        titlefont=dict(\n",
    "            family='Courier New, monospace',\n",
    "            size=18,\n",
    "            color='blue'\n",
    "        )\n",
    "    ),\n",
    "    yaxis=dict(\n",
    "        title='Price',\n",
    "        titlefont=dict(\n",
    "            family='Courier New, monospace',\n",
    "            size=18,\n",
    "            color='red'\n",
    "        )\n",
    "    )\n",
    ")\n",
    "\n",
    "INFOSYS_DATA = [{'x': INFOSYS['Date '], 'y': INFOSYS['close ']}]\n",
    "\n",
    "plot = go.Figure(data=INFOSYS_DATA, layout=layout)\n"
   ]
  },
  {
   "cell_type": "code",
   "execution_count": 8,
   "metadata": {
    "scrolled": true
   },
   "outputs": [
    {
     "data": {
      "application/vnd.plotly.v1+json": {
       "config": {
        "linkText": "Export to plot.ly",
        "plotlyServerURL": "https://plot.ly",
        "showLink": false
       },
       "data": [
        {
         "type": "scatter",
         "x": [
          "24-Nov-2023",
          "23-Nov-2023",
          "22-Nov-2023",
          "21-Nov-2023",
          "20-Nov-2023",
          "17-Nov-2023",
          "16-Nov-2023",
          "15-Nov-2023",
          "13-Nov-2023",
          "12-Nov-2023",
          "10-Nov-2023",
          "09-Nov-2023",
          "08-Nov-2023",
          "07-Nov-2023",
          "06-Nov-2023",
          "03-Nov-2023",
          "02-Nov-2023",
          "01-Nov-2023",
          "31-Oct-2023",
          "30-Oct-2023",
          "27-Oct-2023",
          "26-Oct-2023",
          "25-Oct-2023",
          "23-Oct-2023",
          "20-Oct-2023",
          "19-Oct-2023",
          "18-Oct-2023",
          "17-Oct-2023",
          "16-Oct-2023",
          "13-Oct-2023",
          "12-Oct-2023",
          "11-Oct-2023",
          "10-Oct-2023",
          "09-Oct-2023",
          "06-Oct-2023",
          "05-Oct-2023",
          "04-Oct-2023",
          "03-Oct-2023",
          "29-Sep-2023",
          "28-Sep-2023",
          "27-Sep-2023",
          "26-Sep-2023",
          "25-Sep-2023",
          "22-Sep-2023",
          "21-Sep-2023",
          "20-Sep-2023",
          "18-Sep-2023",
          "15-Sep-2023",
          "14-Sep-2023",
          "13-Sep-2023",
          "12-Sep-2023",
          "11-Sep-2023",
          "08-Sep-2023",
          "07-Sep-2023",
          "06-Sep-2023",
          "05-Sep-2023",
          "04-Sep-2023",
          "01-Sep-2023",
          "31-Aug-2023",
          "30-Aug-2023",
          "29-Aug-2023",
          "28-Aug-2023",
          "25-Aug-2023",
          "24-Aug-2023",
          "23-Aug-2023",
          "22-Aug-2023",
          "21-Aug-2023",
          "18-Aug-2023",
          "17-Aug-2023",
          "16-Aug-2023",
          "14-Aug-2023",
          "11-Aug-2023",
          "10-Aug-2023",
          "09-Aug-2023",
          "08-Aug-2023",
          "07-Aug-2023",
          "04-Aug-2023",
          "03-Aug-2023",
          "02-Aug-2023",
          "01-Aug-2023",
          "31-Jul-2023",
          "28-Jul-2023",
          "27-Jul-2023",
          "26-Jul-2023",
          "25-Jul-2023",
          "24-Jul-2023",
          "21-Jul-2023",
          "20-Jul-2023",
          "19-Jul-2023",
          "18-Jul-2023",
          "17-Jul-2023",
          "14-Jul-2023",
          "13-Jul-2023",
          "12-Jul-2023",
          "11-Jul-2023",
          "10-Jul-2023",
          "07-Jul-2023",
          "06-Jul-2023",
          "05-Jul-2023",
          "04-Jul-2023",
          "03-Jul-2023",
          "30-Jun-2023",
          "28-Jun-2023",
          "27-Jun-2023",
          "26-Jun-2023",
          "23-Jun-2023",
          "22-Jun-2023",
          "21-Jun-2023",
          "20-Jun-2023",
          "19-Jun-2023",
          "16-Jun-2023",
          "15-Jun-2023",
          "14-Jun-2023",
          "13-Jun-2023",
          "12-Jun-2023",
          "09-Jun-2023",
          "08-Jun-2023",
          "07-Jun-2023",
          "06-Jun-2023",
          "05-Jun-2023",
          "02-Jun-2023",
          "01-Jun-2023",
          "31-May-2023",
          "30-May-2023",
          "29-May-2023",
          "26-May-2023",
          "25-May-2023"
         ],
         "y": [
          258.15,
          260.75,
          262.1,
          262.65,
          260.85,
          262.65,
          262.45,
          259.2,
          257.05,
          253.15,
          251.4,
          248,
          254.95,
          249.8,
          249.55,
          244.6,
          244.8,
          236.9,
          239.35,
          239.1,
          238.15,
          234.4,
          236.7,
          238.25,
          247.4,
          252,
          253.05,
          256.9,
          254.8,
          254.1,
          255.15,
          253.95,
          253.9,
          250,
          258.75,
          257.8,
          256.65,
          263.95,
          262.3,
          258.05,
          259.75,
          259.85,
          256.9,
          257.1,
          256.65,
          262,
          265.55,
          263.95,
          265.1,
          265,
          262.7,
          271.9,
          268.85,
          263.7,
          257.5,
          258.45,
          259.15,
          255.35,
          245.1,
          247.35,
          246.9,
          244.95,
          245.6,
          249.75,
          245.6,
          243.5,
          239.35,
          230.1,
          232.5,
          234.95,
          231.15,
          236.2,
          237.15,
          234.9,
          233.9,
          232.8,
          235.65,
          235.45,
          235.75,
          244.4,
          236.7,
          234.65,
          220.9,
          221.5,
          219.45,
          217.35,
          217.4,
          218.15,
          219.5,
          221.5,
          223.5,
          221.05,
          221.85,
          226.3,
          225.5,
          225,
          228,
          229.6,
          221.7,
          220.65,
          221.9,
          221.85,
          218.05,
          219.25,
          218.6,
          218.3,
          221.1,
          224.3,
          224.95,
          223.15,
          222.25,
          220.6,
          224.15,
          221.8,
          220.95,
          221.2,
          220.65,
          218.45,
          216.75,
          219.05,
          215.65,
          215.3,
          213.55,
          216.9,
          217,
          212.2,
          210.8
         ]
        }
       ],
       "layout": {
        "template": {
         "data": {
          "bar": [
           {
            "error_x": {
             "color": "#2a3f5f"
            },
            "error_y": {
             "color": "#2a3f5f"
            },
            "marker": {
             "line": {
              "color": "#E5ECF6",
              "width": 0.5
             },
             "pattern": {
              "fillmode": "overlay",
              "size": 10,
              "solidity": 0.2
             }
            },
            "type": "bar"
           }
          ],
          "barpolar": [
           {
            "marker": {
             "line": {
              "color": "#E5ECF6",
              "width": 0.5
             },
             "pattern": {
              "fillmode": "overlay",
              "size": 10,
              "solidity": 0.2
             }
            },
            "type": "barpolar"
           }
          ],
          "carpet": [
           {
            "aaxis": {
             "endlinecolor": "#2a3f5f",
             "gridcolor": "white",
             "linecolor": "white",
             "minorgridcolor": "white",
             "startlinecolor": "#2a3f5f"
            },
            "baxis": {
             "endlinecolor": "#2a3f5f",
             "gridcolor": "white",
             "linecolor": "white",
             "minorgridcolor": "white",
             "startlinecolor": "#2a3f5f"
            },
            "type": "carpet"
           }
          ],
          "choropleth": [
           {
            "colorbar": {
             "outlinewidth": 0,
             "ticks": ""
            },
            "type": "choropleth"
           }
          ],
          "contour": [
           {
            "colorbar": {
             "outlinewidth": 0,
             "ticks": ""
            },
            "colorscale": [
             [
              0,
              "#0d0887"
             ],
             [
              0.1111111111111111,
              "#46039f"
             ],
             [
              0.2222222222222222,
              "#7201a8"
             ],
             [
              0.3333333333333333,
              "#9c179e"
             ],
             [
              0.4444444444444444,
              "#bd3786"
             ],
             [
              0.5555555555555556,
              "#d8576b"
             ],
             [
              0.6666666666666666,
              "#ed7953"
             ],
             [
              0.7777777777777778,
              "#fb9f3a"
             ],
             [
              0.8888888888888888,
              "#fdca26"
             ],
             [
              1,
              "#f0f921"
             ]
            ],
            "type": "contour"
           }
          ],
          "contourcarpet": [
           {
            "colorbar": {
             "outlinewidth": 0,
             "ticks": ""
            },
            "type": "contourcarpet"
           }
          ],
          "heatmap": [
           {
            "colorbar": {
             "outlinewidth": 0,
             "ticks": ""
            },
            "colorscale": [
             [
              0,
              "#0d0887"
             ],
             [
              0.1111111111111111,
              "#46039f"
             ],
             [
              0.2222222222222222,
              "#7201a8"
             ],
             [
              0.3333333333333333,
              "#9c179e"
             ],
             [
              0.4444444444444444,
              "#bd3786"
             ],
             [
              0.5555555555555556,
              "#d8576b"
             ],
             [
              0.6666666666666666,
              "#ed7953"
             ],
             [
              0.7777777777777778,
              "#fb9f3a"
             ],
             [
              0.8888888888888888,
              "#fdca26"
             ],
             [
              1,
              "#f0f921"
             ]
            ],
            "type": "heatmap"
           }
          ],
          "heatmapgl": [
           {
            "colorbar": {
             "outlinewidth": 0,
             "ticks": ""
            },
            "colorscale": [
             [
              0,
              "#0d0887"
             ],
             [
              0.1111111111111111,
              "#46039f"
             ],
             [
              0.2222222222222222,
              "#7201a8"
             ],
             [
              0.3333333333333333,
              "#9c179e"
             ],
             [
              0.4444444444444444,
              "#bd3786"
             ],
             [
              0.5555555555555556,
              "#d8576b"
             ],
             [
              0.6666666666666666,
              "#ed7953"
             ],
             [
              0.7777777777777778,
              "#fb9f3a"
             ],
             [
              0.8888888888888888,
              "#fdca26"
             ],
             [
              1,
              "#f0f921"
             ]
            ],
            "type": "heatmapgl"
           }
          ],
          "histogram": [
           {
            "marker": {
             "pattern": {
              "fillmode": "overlay",
              "size": 10,
              "solidity": 0.2
             }
            },
            "type": "histogram"
           }
          ],
          "histogram2d": [
           {
            "colorbar": {
             "outlinewidth": 0,
             "ticks": ""
            },
            "colorscale": [
             [
              0,
              "#0d0887"
             ],
             [
              0.1111111111111111,
              "#46039f"
             ],
             [
              0.2222222222222222,
              "#7201a8"
             ],
             [
              0.3333333333333333,
              "#9c179e"
             ],
             [
              0.4444444444444444,
              "#bd3786"
             ],
             [
              0.5555555555555556,
              "#d8576b"
             ],
             [
              0.6666666666666666,
              "#ed7953"
             ],
             [
              0.7777777777777778,
              "#fb9f3a"
             ],
             [
              0.8888888888888888,
              "#fdca26"
             ],
             [
              1,
              "#f0f921"
             ]
            ],
            "type": "histogram2d"
           }
          ],
          "histogram2dcontour": [
           {
            "colorbar": {
             "outlinewidth": 0,
             "ticks": ""
            },
            "colorscale": [
             [
              0,
              "#0d0887"
             ],
             [
              0.1111111111111111,
              "#46039f"
             ],
             [
              0.2222222222222222,
              "#7201a8"
             ],
             [
              0.3333333333333333,
              "#9c179e"
             ],
             [
              0.4444444444444444,
              "#bd3786"
             ],
             [
              0.5555555555555556,
              "#d8576b"
             ],
             [
              0.6666666666666666,
              "#ed7953"
             ],
             [
              0.7777777777777778,
              "#fb9f3a"
             ],
             [
              0.8888888888888888,
              "#fdca26"
             ],
             [
              1,
              "#f0f921"
             ]
            ],
            "type": "histogram2dcontour"
           }
          ],
          "mesh3d": [
           {
            "colorbar": {
             "outlinewidth": 0,
             "ticks": ""
            },
            "type": "mesh3d"
           }
          ],
          "parcoords": [
           {
            "line": {
             "colorbar": {
              "outlinewidth": 0,
              "ticks": ""
             }
            },
            "type": "parcoords"
           }
          ],
          "pie": [
           {
            "automargin": true,
            "type": "pie"
           }
          ],
          "scatter": [
           {
            "fillpattern": {
             "fillmode": "overlay",
             "size": 10,
             "solidity": 0.2
            },
            "type": "scatter"
           }
          ],
          "scatter3d": [
           {
            "line": {
             "colorbar": {
              "outlinewidth": 0,
              "ticks": ""
             }
            },
            "marker": {
             "colorbar": {
              "outlinewidth": 0,
              "ticks": ""
             }
            },
            "type": "scatter3d"
           }
          ],
          "scattercarpet": [
           {
            "marker": {
             "colorbar": {
              "outlinewidth": 0,
              "ticks": ""
             }
            },
            "type": "scattercarpet"
           }
          ],
          "scattergeo": [
           {
            "marker": {
             "colorbar": {
              "outlinewidth": 0,
              "ticks": ""
             }
            },
            "type": "scattergeo"
           }
          ],
          "scattergl": [
           {
            "marker": {
             "colorbar": {
              "outlinewidth": 0,
              "ticks": ""
             }
            },
            "type": "scattergl"
           }
          ],
          "scattermapbox": [
           {
            "marker": {
             "colorbar": {
              "outlinewidth": 0,
              "ticks": ""
             }
            },
            "type": "scattermapbox"
           }
          ],
          "scatterpolar": [
           {
            "marker": {
             "colorbar": {
              "outlinewidth": 0,
              "ticks": ""
             }
            },
            "type": "scatterpolar"
           }
          ],
          "scatterpolargl": [
           {
            "marker": {
             "colorbar": {
              "outlinewidth": 0,
              "ticks": ""
             }
            },
            "type": "scatterpolargl"
           }
          ],
          "scatterternary": [
           {
            "marker": {
             "colorbar": {
              "outlinewidth": 0,
              "ticks": ""
             }
            },
            "type": "scatterternary"
           }
          ],
          "surface": [
           {
            "colorbar": {
             "outlinewidth": 0,
             "ticks": ""
            },
            "colorscale": [
             [
              0,
              "#0d0887"
             ],
             [
              0.1111111111111111,
              "#46039f"
             ],
             [
              0.2222222222222222,
              "#7201a8"
             ],
             [
              0.3333333333333333,
              "#9c179e"
             ],
             [
              0.4444444444444444,
              "#bd3786"
             ],
             [
              0.5555555555555556,
              "#d8576b"
             ],
             [
              0.6666666666666666,
              "#ed7953"
             ],
             [
              0.7777777777777778,
              "#fb9f3a"
             ],
             [
              0.8888888888888888,
              "#fdca26"
             ],
             [
              1,
              "#f0f921"
             ]
            ],
            "type": "surface"
           }
          ],
          "table": [
           {
            "cells": {
             "fill": {
              "color": "#EBF0F8"
             },
             "line": {
              "color": "white"
             }
            },
            "header": {
             "fill": {
              "color": "#C8D4E3"
             },
             "line": {
              "color": "white"
             }
            },
            "type": "table"
           }
          ]
         },
         "layout": {
          "annotationdefaults": {
           "arrowcolor": "#2a3f5f",
           "arrowhead": 0,
           "arrowwidth": 1
          },
          "autotypenumbers": "strict",
          "coloraxis": {
           "colorbar": {
            "outlinewidth": 0,
            "ticks": ""
           }
          },
          "colorscale": {
           "diverging": [
            [
             0,
             "#8e0152"
            ],
            [
             0.1,
             "#c51b7d"
            ],
            [
             0.2,
             "#de77ae"
            ],
            [
             0.3,
             "#f1b6da"
            ],
            [
             0.4,
             "#fde0ef"
            ],
            [
             0.5,
             "#f7f7f7"
            ],
            [
             0.6,
             "#e6f5d0"
            ],
            [
             0.7,
             "#b8e186"
            ],
            [
             0.8,
             "#7fbc41"
            ],
            [
             0.9,
             "#4d9221"
            ],
            [
             1,
             "#276419"
            ]
           ],
           "sequential": [
            [
             0,
             "#0d0887"
            ],
            [
             0.1111111111111111,
             "#46039f"
            ],
            [
             0.2222222222222222,
             "#7201a8"
            ],
            [
             0.3333333333333333,
             "#9c179e"
            ],
            [
             0.4444444444444444,
             "#bd3786"
            ],
            [
             0.5555555555555556,
             "#d8576b"
            ],
            [
             0.6666666666666666,
             "#ed7953"
            ],
            [
             0.7777777777777778,
             "#fb9f3a"
            ],
            [
             0.8888888888888888,
             "#fdca26"
            ],
            [
             1,
             "#f0f921"
            ]
           ],
           "sequentialminus": [
            [
             0,
             "#0d0887"
            ],
            [
             0.1111111111111111,
             "#46039f"
            ],
            [
             0.2222222222222222,
             "#7201a8"
            ],
            [
             0.3333333333333333,
             "#9c179e"
            ],
            [
             0.4444444444444444,
             "#bd3786"
            ],
            [
             0.5555555555555556,
             "#d8576b"
            ],
            [
             0.6666666666666666,
             "#ed7953"
            ],
            [
             0.7777777777777778,
             "#fb9f3a"
            ],
            [
             0.8888888888888888,
             "#fdca26"
            ],
            [
             1,
             "#f0f921"
            ]
           ]
          },
          "colorway": [
           "#636efa",
           "#EF553B",
           "#00cc96",
           "#ab63fa",
           "#FFA15A",
           "#19d3f3",
           "#FF6692",
           "#B6E880",
           "#FF97FF",
           "#FECB52"
          ],
          "font": {
           "color": "#2a3f5f"
          },
          "geo": {
           "bgcolor": "white",
           "lakecolor": "white",
           "landcolor": "#E5ECF6",
           "showlakes": true,
           "showland": true,
           "subunitcolor": "white"
          },
          "hoverlabel": {
           "align": "left"
          },
          "hovermode": "closest",
          "mapbox": {
           "style": "light"
          },
          "paper_bgcolor": "white",
          "plot_bgcolor": "#E5ECF6",
          "polar": {
           "angularaxis": {
            "gridcolor": "white",
            "linecolor": "white",
            "ticks": ""
           },
           "bgcolor": "#E5ECF6",
           "radialaxis": {
            "gridcolor": "white",
            "linecolor": "white",
            "ticks": ""
           }
          },
          "scene": {
           "xaxis": {
            "backgroundcolor": "#E5ECF6",
            "gridcolor": "white",
            "gridwidth": 2,
            "linecolor": "white",
            "showbackground": true,
            "ticks": "",
            "zerolinecolor": "white"
           },
           "yaxis": {
            "backgroundcolor": "#E5ECF6",
            "gridcolor": "white",
            "gridwidth": 2,
            "linecolor": "white",
            "showbackground": true,
            "ticks": "",
            "zerolinecolor": "white"
           },
           "zaxis": {
            "backgroundcolor": "#E5ECF6",
            "gridcolor": "white",
            "gridwidth": 2,
            "linecolor": "white",
            "showbackground": true,
            "ticks": "",
            "zerolinecolor": "white"
           }
          },
          "shapedefaults": {
           "line": {
            "color": "#2a3f5f"
           }
          },
          "ternary": {
           "aaxis": {
            "gridcolor": "white",
            "linecolor": "white",
            "ticks": ""
           },
           "baxis": {
            "gridcolor": "white",
            "linecolor": "white",
            "ticks": ""
           },
           "bgcolor": "#E5ECF6",
           "caxis": {
            "gridcolor": "white",
            "linecolor": "white",
            "ticks": ""
           }
          },
          "title": {
           "x": 0.05
          },
          "xaxis": {
           "automargin": true,
           "gridcolor": "white",
           "linecolor": "white",
           "ticks": "",
           "title": {
            "standoff": 15
           },
           "zerolinecolor": "white",
           "zerolinewidth": 2
          },
          "yaxis": {
           "automargin": true,
           "gridcolor": "white",
           "linecolor": "white",
           "ticks": "",
           "title": {
            "standoff": 15
           },
           "zerolinecolor": "white",
           "zerolinewidth": 2
          }
         }
        },
        "title": {
         "text": "STOCK PRICE OF ITC"
        },
        "xaxis": {
         "title": {
          "font": {
           "color": "blue",
           "family": "Courier New, monospace",
           "size": 18
          },
          "text": "date"
         }
        },
        "yaxis": {
         "title": {
          "font": {
           "color": "red",
           "family": "Courier New, monospace",
           "size": 18
          },
          "text": "Price"
         }
        }
       }
      },
      "text/html": [
       "<div>                            <div id=\"1f33df65-235c-420f-a5c5-c12654dd5a3c\" class=\"plotly-graph-div\" style=\"height:525px; width:100%;\"></div>            <script type=\"text/javascript\">                require([\"plotly\"], function(Plotly) {                    window.PLOTLYENV=window.PLOTLYENV || {};                                    if (document.getElementById(\"1f33df65-235c-420f-a5c5-c12654dd5a3c\")) {                    Plotly.newPlot(                        \"1f33df65-235c-420f-a5c5-c12654dd5a3c\",                        [{\"x\":[\"24-Nov-2023\",\"23-Nov-2023\",\"22-Nov-2023\",\"21-Nov-2023\",\"20-Nov-2023\",\"17-Nov-2023\",\"16-Nov-2023\",\"15-Nov-2023\",\"13-Nov-2023\",\"12-Nov-2023\",\"10-Nov-2023\",\"09-Nov-2023\",\"08-Nov-2023\",\"07-Nov-2023\",\"06-Nov-2023\",\"03-Nov-2023\",\"02-Nov-2023\",\"01-Nov-2023\",\"31-Oct-2023\",\"30-Oct-2023\",\"27-Oct-2023\",\"26-Oct-2023\",\"25-Oct-2023\",\"23-Oct-2023\",\"20-Oct-2023\",\"19-Oct-2023\",\"18-Oct-2023\",\"17-Oct-2023\",\"16-Oct-2023\",\"13-Oct-2023\",\"12-Oct-2023\",\"11-Oct-2023\",\"10-Oct-2023\",\"09-Oct-2023\",\"06-Oct-2023\",\"05-Oct-2023\",\"04-Oct-2023\",\"03-Oct-2023\",\"29-Sep-2023\",\"28-Sep-2023\",\"27-Sep-2023\",\"26-Sep-2023\",\"25-Sep-2023\",\"22-Sep-2023\",\"21-Sep-2023\",\"20-Sep-2023\",\"18-Sep-2023\",\"15-Sep-2023\",\"14-Sep-2023\",\"13-Sep-2023\",\"12-Sep-2023\",\"11-Sep-2023\",\"08-Sep-2023\",\"07-Sep-2023\",\"06-Sep-2023\",\"05-Sep-2023\",\"04-Sep-2023\",\"01-Sep-2023\",\"31-Aug-2023\",\"30-Aug-2023\",\"29-Aug-2023\",\"28-Aug-2023\",\"25-Aug-2023\",\"24-Aug-2023\",\"23-Aug-2023\",\"22-Aug-2023\",\"21-Aug-2023\",\"18-Aug-2023\",\"17-Aug-2023\",\"16-Aug-2023\",\"14-Aug-2023\",\"11-Aug-2023\",\"10-Aug-2023\",\"09-Aug-2023\",\"08-Aug-2023\",\"07-Aug-2023\",\"04-Aug-2023\",\"03-Aug-2023\",\"02-Aug-2023\",\"01-Aug-2023\",\"31-Jul-2023\",\"28-Jul-2023\",\"27-Jul-2023\",\"26-Jul-2023\",\"25-Jul-2023\",\"24-Jul-2023\",\"21-Jul-2023\",\"20-Jul-2023\",\"19-Jul-2023\",\"18-Jul-2023\",\"17-Jul-2023\",\"14-Jul-2023\",\"13-Jul-2023\",\"12-Jul-2023\",\"11-Jul-2023\",\"10-Jul-2023\",\"07-Jul-2023\",\"06-Jul-2023\",\"05-Jul-2023\",\"04-Jul-2023\",\"03-Jul-2023\",\"30-Jun-2023\",\"28-Jun-2023\",\"27-Jun-2023\",\"26-Jun-2023\",\"23-Jun-2023\",\"22-Jun-2023\",\"21-Jun-2023\",\"20-Jun-2023\",\"19-Jun-2023\",\"16-Jun-2023\",\"15-Jun-2023\",\"14-Jun-2023\",\"13-Jun-2023\",\"12-Jun-2023\",\"09-Jun-2023\",\"08-Jun-2023\",\"07-Jun-2023\",\"06-Jun-2023\",\"05-Jun-2023\",\"02-Jun-2023\",\"01-Jun-2023\",\"31-May-2023\",\"30-May-2023\",\"29-May-2023\",\"26-May-2023\",\"25-May-2023\"],\"y\":[258.15,260.75,262.1,262.65,260.85,262.65,262.45,259.2,257.05,253.15,251.4,248.0,254.95,249.8,249.55,244.6,244.8,236.9,239.35,239.1,238.15,234.4,236.7,238.25,247.4,252.0,253.05,256.9,254.8,254.1,255.15,253.95,253.9,250.0,258.75,257.8,256.65,263.95,262.3,258.05,259.75,259.85,256.9,257.1,256.65,262.0,265.55,263.95,265.1,265.0,262.7,271.9,268.85,263.7,257.5,258.45,259.15,255.35,245.1,247.35,246.9,244.95,245.6,249.75,245.6,243.5,239.35,230.1,232.5,234.95,231.15,236.2,237.15,234.9,233.9,232.8,235.65,235.45,235.75,244.4,236.7,234.65,220.9,221.5,219.45,217.35,217.4,218.15,219.5,221.5,223.5,221.05,221.85,226.3,225.5,225.0,228.0,229.6,221.7,220.65,221.9,221.85,218.05,219.25,218.6,218.3,221.1,224.3,224.95,223.15,222.25,220.6,224.15,221.8,220.95,221.2,220.65,218.45,216.75,219.05,215.65,215.3,213.55,216.9,217.0,212.2,210.8],\"type\":\"scatter\"}],                        {\"template\":{\"data\":{\"barpolar\":[{\"marker\":{\"line\":{\"color\":\"#E5ECF6\",\"width\":0.5},\"pattern\":{\"fillmode\":\"overlay\",\"size\":10,\"solidity\":0.2}},\"type\":\"barpolar\"}],\"bar\":[{\"error_x\":{\"color\":\"#2a3f5f\"},\"error_y\":{\"color\":\"#2a3f5f\"},\"marker\":{\"line\":{\"color\":\"#E5ECF6\",\"width\":0.5},\"pattern\":{\"fillmode\":\"overlay\",\"size\":10,\"solidity\":0.2}},\"type\":\"bar\"}],\"carpet\":[{\"aaxis\":{\"endlinecolor\":\"#2a3f5f\",\"gridcolor\":\"white\",\"linecolor\":\"white\",\"minorgridcolor\":\"white\",\"startlinecolor\":\"#2a3f5f\"},\"baxis\":{\"endlinecolor\":\"#2a3f5f\",\"gridcolor\":\"white\",\"linecolor\":\"white\",\"minorgridcolor\":\"white\",\"startlinecolor\":\"#2a3f5f\"},\"type\":\"carpet\"}],\"choropleth\":[{\"colorbar\":{\"outlinewidth\":0,\"ticks\":\"\"},\"type\":\"choropleth\"}],\"contourcarpet\":[{\"colorbar\":{\"outlinewidth\":0,\"ticks\":\"\"},\"type\":\"contourcarpet\"}],\"contour\":[{\"colorbar\":{\"outlinewidth\":0,\"ticks\":\"\"},\"colorscale\":[[0.0,\"#0d0887\"],[0.1111111111111111,\"#46039f\"],[0.2222222222222222,\"#7201a8\"],[0.3333333333333333,\"#9c179e\"],[0.4444444444444444,\"#bd3786\"],[0.5555555555555556,\"#d8576b\"],[0.6666666666666666,\"#ed7953\"],[0.7777777777777778,\"#fb9f3a\"],[0.8888888888888888,\"#fdca26\"],[1.0,\"#f0f921\"]],\"type\":\"contour\"}],\"heatmapgl\":[{\"colorbar\":{\"outlinewidth\":0,\"ticks\":\"\"},\"colorscale\":[[0.0,\"#0d0887\"],[0.1111111111111111,\"#46039f\"],[0.2222222222222222,\"#7201a8\"],[0.3333333333333333,\"#9c179e\"],[0.4444444444444444,\"#bd3786\"],[0.5555555555555556,\"#d8576b\"],[0.6666666666666666,\"#ed7953\"],[0.7777777777777778,\"#fb9f3a\"],[0.8888888888888888,\"#fdca26\"],[1.0,\"#f0f921\"]],\"type\":\"heatmapgl\"}],\"heatmap\":[{\"colorbar\":{\"outlinewidth\":0,\"ticks\":\"\"},\"colorscale\":[[0.0,\"#0d0887\"],[0.1111111111111111,\"#46039f\"],[0.2222222222222222,\"#7201a8\"],[0.3333333333333333,\"#9c179e\"],[0.4444444444444444,\"#bd3786\"],[0.5555555555555556,\"#d8576b\"],[0.6666666666666666,\"#ed7953\"],[0.7777777777777778,\"#fb9f3a\"],[0.8888888888888888,\"#fdca26\"],[1.0,\"#f0f921\"]],\"type\":\"heatmap\"}],\"histogram2dcontour\":[{\"colorbar\":{\"outlinewidth\":0,\"ticks\":\"\"},\"colorscale\":[[0.0,\"#0d0887\"],[0.1111111111111111,\"#46039f\"],[0.2222222222222222,\"#7201a8\"],[0.3333333333333333,\"#9c179e\"],[0.4444444444444444,\"#bd3786\"],[0.5555555555555556,\"#d8576b\"],[0.6666666666666666,\"#ed7953\"],[0.7777777777777778,\"#fb9f3a\"],[0.8888888888888888,\"#fdca26\"],[1.0,\"#f0f921\"]],\"type\":\"histogram2dcontour\"}],\"histogram2d\":[{\"colorbar\":{\"outlinewidth\":0,\"ticks\":\"\"},\"colorscale\":[[0.0,\"#0d0887\"],[0.1111111111111111,\"#46039f\"],[0.2222222222222222,\"#7201a8\"],[0.3333333333333333,\"#9c179e\"],[0.4444444444444444,\"#bd3786\"],[0.5555555555555556,\"#d8576b\"],[0.6666666666666666,\"#ed7953\"],[0.7777777777777778,\"#fb9f3a\"],[0.8888888888888888,\"#fdca26\"],[1.0,\"#f0f921\"]],\"type\":\"histogram2d\"}],\"histogram\":[{\"marker\":{\"pattern\":{\"fillmode\":\"overlay\",\"size\":10,\"solidity\":0.2}},\"type\":\"histogram\"}],\"mesh3d\":[{\"colorbar\":{\"outlinewidth\":0,\"ticks\":\"\"},\"type\":\"mesh3d\"}],\"parcoords\":[{\"line\":{\"colorbar\":{\"outlinewidth\":0,\"ticks\":\"\"}},\"type\":\"parcoords\"}],\"pie\":[{\"automargin\":true,\"type\":\"pie\"}],\"scatter3d\":[{\"line\":{\"colorbar\":{\"outlinewidth\":0,\"ticks\":\"\"}},\"marker\":{\"colorbar\":{\"outlinewidth\":0,\"ticks\":\"\"}},\"type\":\"scatter3d\"}],\"scattercarpet\":[{\"marker\":{\"colorbar\":{\"outlinewidth\":0,\"ticks\":\"\"}},\"type\":\"scattercarpet\"}],\"scattergeo\":[{\"marker\":{\"colorbar\":{\"outlinewidth\":0,\"ticks\":\"\"}},\"type\":\"scattergeo\"}],\"scattergl\":[{\"marker\":{\"colorbar\":{\"outlinewidth\":0,\"ticks\":\"\"}},\"type\":\"scattergl\"}],\"scattermapbox\":[{\"marker\":{\"colorbar\":{\"outlinewidth\":0,\"ticks\":\"\"}},\"type\":\"scattermapbox\"}],\"scatterpolargl\":[{\"marker\":{\"colorbar\":{\"outlinewidth\":0,\"ticks\":\"\"}},\"type\":\"scatterpolargl\"}],\"scatterpolar\":[{\"marker\":{\"colorbar\":{\"outlinewidth\":0,\"ticks\":\"\"}},\"type\":\"scatterpolar\"}],\"scatter\":[{\"fillpattern\":{\"fillmode\":\"overlay\",\"size\":10,\"solidity\":0.2},\"type\":\"scatter\"}],\"scatterternary\":[{\"marker\":{\"colorbar\":{\"outlinewidth\":0,\"ticks\":\"\"}},\"type\":\"scatterternary\"}],\"surface\":[{\"colorbar\":{\"outlinewidth\":0,\"ticks\":\"\"},\"colorscale\":[[0.0,\"#0d0887\"],[0.1111111111111111,\"#46039f\"],[0.2222222222222222,\"#7201a8\"],[0.3333333333333333,\"#9c179e\"],[0.4444444444444444,\"#bd3786\"],[0.5555555555555556,\"#d8576b\"],[0.6666666666666666,\"#ed7953\"],[0.7777777777777778,\"#fb9f3a\"],[0.8888888888888888,\"#fdca26\"],[1.0,\"#f0f921\"]],\"type\":\"surface\"}],\"table\":[{\"cells\":{\"fill\":{\"color\":\"#EBF0F8\"},\"line\":{\"color\":\"white\"}},\"header\":{\"fill\":{\"color\":\"#C8D4E3\"},\"line\":{\"color\":\"white\"}},\"type\":\"table\"}]},\"layout\":{\"annotationdefaults\":{\"arrowcolor\":\"#2a3f5f\",\"arrowhead\":0,\"arrowwidth\":1},\"autotypenumbers\":\"strict\",\"coloraxis\":{\"colorbar\":{\"outlinewidth\":0,\"ticks\":\"\"}},\"colorscale\":{\"diverging\":[[0,\"#8e0152\"],[0.1,\"#c51b7d\"],[0.2,\"#de77ae\"],[0.3,\"#f1b6da\"],[0.4,\"#fde0ef\"],[0.5,\"#f7f7f7\"],[0.6,\"#e6f5d0\"],[0.7,\"#b8e186\"],[0.8,\"#7fbc41\"],[0.9,\"#4d9221\"],[1,\"#276419\"]],\"sequential\":[[0.0,\"#0d0887\"],[0.1111111111111111,\"#46039f\"],[0.2222222222222222,\"#7201a8\"],[0.3333333333333333,\"#9c179e\"],[0.4444444444444444,\"#bd3786\"],[0.5555555555555556,\"#d8576b\"],[0.6666666666666666,\"#ed7953\"],[0.7777777777777778,\"#fb9f3a\"],[0.8888888888888888,\"#fdca26\"],[1.0,\"#f0f921\"]],\"sequentialminus\":[[0.0,\"#0d0887\"],[0.1111111111111111,\"#46039f\"],[0.2222222222222222,\"#7201a8\"],[0.3333333333333333,\"#9c179e\"],[0.4444444444444444,\"#bd3786\"],[0.5555555555555556,\"#d8576b\"],[0.6666666666666666,\"#ed7953\"],[0.7777777777777778,\"#fb9f3a\"],[0.8888888888888888,\"#fdca26\"],[1.0,\"#f0f921\"]]},\"colorway\":[\"#636efa\",\"#EF553B\",\"#00cc96\",\"#ab63fa\",\"#FFA15A\",\"#19d3f3\",\"#FF6692\",\"#B6E880\",\"#FF97FF\",\"#FECB52\"],\"font\":{\"color\":\"#2a3f5f\"},\"geo\":{\"bgcolor\":\"white\",\"lakecolor\":\"white\",\"landcolor\":\"#E5ECF6\",\"showlakes\":true,\"showland\":true,\"subunitcolor\":\"white\"},\"hoverlabel\":{\"align\":\"left\"},\"hovermode\":\"closest\",\"mapbox\":{\"style\":\"light\"},\"paper_bgcolor\":\"white\",\"plot_bgcolor\":\"#E5ECF6\",\"polar\":{\"angularaxis\":{\"gridcolor\":\"white\",\"linecolor\":\"white\",\"ticks\":\"\"},\"bgcolor\":\"#E5ECF6\",\"radialaxis\":{\"gridcolor\":\"white\",\"linecolor\":\"white\",\"ticks\":\"\"}},\"scene\":{\"xaxis\":{\"backgroundcolor\":\"#E5ECF6\",\"gridcolor\":\"white\",\"gridwidth\":2,\"linecolor\":\"white\",\"showbackground\":true,\"ticks\":\"\",\"zerolinecolor\":\"white\"},\"yaxis\":{\"backgroundcolor\":\"#E5ECF6\",\"gridcolor\":\"white\",\"gridwidth\":2,\"linecolor\":\"white\",\"showbackground\":true,\"ticks\":\"\",\"zerolinecolor\":\"white\"},\"zaxis\":{\"backgroundcolor\":\"#E5ECF6\",\"gridcolor\":\"white\",\"gridwidth\":2,\"linecolor\":\"white\",\"showbackground\":true,\"ticks\":\"\",\"zerolinecolor\":\"white\"}},\"shapedefaults\":{\"line\":{\"color\":\"#2a3f5f\"}},\"ternary\":{\"aaxis\":{\"gridcolor\":\"white\",\"linecolor\":\"white\",\"ticks\":\"\"},\"baxis\":{\"gridcolor\":\"white\",\"linecolor\":\"white\",\"ticks\":\"\"},\"bgcolor\":\"#E5ECF6\",\"caxis\":{\"gridcolor\":\"white\",\"linecolor\":\"white\",\"ticks\":\"\"}},\"title\":{\"x\":0.05},\"xaxis\":{\"automargin\":true,\"gridcolor\":\"white\",\"linecolor\":\"white\",\"ticks\":\"\",\"title\":{\"standoff\":15},\"zerolinecolor\":\"white\",\"zerolinewidth\":2},\"yaxis\":{\"automargin\":true,\"gridcolor\":\"white\",\"linecolor\":\"white\",\"ticks\":\"\",\"title\":{\"standoff\":15},\"zerolinecolor\":\"white\",\"zerolinewidth\":2}}},\"title\":{\"text\":\"STOCK PRICE OF ITC\"},\"xaxis\":{\"title\":{\"font\":{\"color\":\"blue\",\"family\":\"Courier New, monospace\",\"size\":18},\"text\":\"date\"}},\"yaxis\":{\"title\":{\"font\":{\"color\":\"red\",\"family\":\"Courier New, monospace\",\"size\":18},\"text\":\"Price\"}}},                        {\"responsive\": true}                    ).then(function(){\n",
       "                            \n",
       "var gd = document.getElementById('1f33df65-235c-420f-a5c5-c12654dd5a3c');\n",
       "var x = new MutationObserver(function (mutations, observer) {{\n",
       "        var display = window.getComputedStyle(gd).display;\n",
       "        if (!display || display === 'none') {{\n",
       "            console.log([gd, 'removed!']);\n",
       "            Plotly.purge(gd);\n",
       "            observer.disconnect();\n",
       "        }}\n",
       "}});\n",
       "\n",
       "// Listen for the removal of the full notebook cells\n",
       "var notebookContainer = gd.closest('#notebook-container');\n",
       "if (notebookContainer) {{\n",
       "    x.observe(notebookContainer, {childList: true});\n",
       "}}\n",
       "\n",
       "// Listen for the clearing of the current output cell\n",
       "var outputEl = gd.closest('.output');\n",
       "if (outputEl) {{\n",
       "    x.observe(outputEl, {childList: true});\n",
       "}}\n",
       "\n",
       "                        })                };                });            </script>        </div>"
      ]
     },
     "metadata": {},
     "output_type": "display_data"
    }
   ],
   "source": [
    "iplot(plot)"
   ]
  },
  {
   "cell_type": "code",
   "execution_count": 13,
   "metadata": {},
   "outputs": [
    {
     "data": {
      "text/html": [
       "<div>\n",
       "<style scoped>\n",
       "    .dataframe tbody tr th:only-of-type {\n",
       "        vertical-align: middle;\n",
       "    }\n",
       "\n",
       "    .dataframe tbody tr th {\n",
       "        vertical-align: top;\n",
       "    }\n",
       "\n",
       "    .dataframe thead th {\n",
       "        text-align: right;\n",
       "    }\n",
       "</style>\n",
       "<table border=\"1\" class=\"dataframe\">\n",
       "  <thead>\n",
       "    <tr style=\"text-align: right;\">\n",
       "      <th></th>\n",
       "      <th>Open-Close</th>\n",
       "      <th>High-Low</th>\n",
       "    </tr>\n",
       "  </thead>\n",
       "  <tbody>\n",
       "    <tr>\n",
       "      <th>0</th>\n",
       "      <td>-3.25</td>\n",
       "      <td>4.85</td>\n",
       "    </tr>\n",
       "    <tr>\n",
       "      <th>1</th>\n",
       "      <td>-1.35</td>\n",
       "      <td>3.95</td>\n",
       "    </tr>\n",
       "    <tr>\n",
       "      <th>2</th>\n",
       "      <td>-1.30</td>\n",
       "      <td>4.35</td>\n",
       "    </tr>\n",
       "    <tr>\n",
       "      <th>3</th>\n",
       "      <td>-1.10</td>\n",
       "      <td>4.65</td>\n",
       "    </tr>\n",
       "    <tr>\n",
       "      <th>4</th>\n",
       "      <td>-3.00</td>\n",
       "      <td>4.30</td>\n",
       "    </tr>\n",
       "  </tbody>\n",
       "</table>\n",
       "</div>"
      ],
      "text/plain": [
       "   Open-Close  High-Low\n",
       "0       -3.25      4.85\n",
       "1       -1.35      3.95\n",
       "2       -1.30      4.35\n",
       "3       -1.10      4.65\n",
       "4       -3.00      4.30"
      ]
     },
     "execution_count": 13,
     "metadata": {},
     "output_type": "execute_result"
    }
   ],
   "source": [
    "# INFOSYS['OPEN -close']= INFOSYS.close - INFOSYS.OPEN \n",
    "# INFOSYS['High-Low']  = INFOSYS.High - INFOSYS.Low\n",
    "# INFOSYS = INFOSYS.dropna()\n",
    "# X= INFOSYS[['Open-close', 'High-Low']]\n",
    "# X.head()\n",
    "\n",
    "# INFOSYS = INFOSYS[[\"Date \",\"OPEN \",\"HIGH \",\"LOW \",\"close \",\"VOLUME \"]]\n",
    "\n",
    "\n",
    "INFOSYS['Open-Close'] = INFOSYS[\"close \"] - INFOSYS[\"OPEN \"]\n",
    "INFOSYS['High-Low'] = INFOSYS[\"HIGH \"] - INFOSYS[\"LOW \"]\n",
    "INFOSYS = INFOSYS.dropna()\n",
    "X = INFOSYS[['Open-Close', 'High-Low']]\n",
    "\n",
    "X.head()"
   ]
  },
  {
   "cell_type": "code",
   "execution_count": 14,
   "metadata": {},
   "outputs": [],
   "source": [
    "Y= np.where(INFOSYS[\"close \"].shift(-1)>INFOSYS[\"close \"],1,-1)"
   ]
  },
  {
   "cell_type": "code",
   "execution_count": 15,
   "metadata": {},
   "outputs": [],
   "source": [
    "split_percentage = 0.8\n",
    "split = int(split_percentage*len(INFOSYS))\n",
    "\n",
    "X_train = X[:split]\n",
    "Y_train = Y[:split]\n",
    "\n",
    "X_test = X[split:]\n",
    "Y_test = Y[split:]"
   ]
  },
  {
   "cell_type": "code",
   "execution_count": 16,
   "metadata": {},
   "outputs": [
    {
     "name": "stdout",
     "output_type": "stream",
     "text": [
      "Train_data Accuracy: 0.87\n",
      "Test_data Accuracy: 0.92\n"
     ]
    }
   ],
   "source": [
    "knn = KNeighborsClassifier(n_neighbors=15)\n",
    "\n",
    "knn.fit(X_train, Y_train)\n",
    "\n",
    "accuracy_train = accuracy_score(Y_train, knn.predict(X_train))\n",
    "accuracy_test = accuracy_score(Y_test, knn.predict(X_test))\n",
    "# model.score(Y_test,predicted)\n",
    "# accuracy_score(Y_test, knn.predict(X_test))\n",
    "\n",
    "print ('Train_data Accuracy: %.2f' %accuracy_train)\n",
    "print ('Test_data Accuracy: %.2f' %accuracy_test)"
   ]
  },
  {
   "cell_type": "code",
   "execution_count": 17,
   "metadata": {},
   "outputs": [
    {
     "data": {
      "image/png": "[encoded data removed]",
      "text/plain": [
       "<Figure size 1000x500 with 1 Axes>"
      ]
     },
     "metadata": {},
     "output_type": "display_data"
    }
   ],
   "source": [
    "INFOSYS['Predicted_Signal'] = knn.predict(X)\n",
    "\n",
    "INFOSYS['SPY_returns'] = np.log(INFOSYS['HIGH ' ]/INFOSYS['HIGH '].shift(1))\n",
    "Cumulative_SPY_returns = INFOSYS[split:]['SPY_returns'].cumsum()*100\n",
    " \n",
    "INFOSYS['Startegy_returns'] = INFOSYS['SPY_returns']* INFOSYS['Predicted_Signal'].shift(1)\n",
    "Cumulative_Strategy_returns = INFOSYS[split:]['Startegy_returns'].cumsum()*100\n",
    "\n",
    "plt.figure(figsize=(10,5))\n",
    "plt.plot(Cumulative_SPY_returns, color='r',label = 'Actual value')\n",
    "plt.plot(Cumulative_Strategy_returns, color='g', label = 'Strategy Returns')\n",
    "plt.legend()\n",
    "plt.show()"
   ]
  },
  {
   "cell_type": "code",
   "execution_count": null,
   "metadata": {},
   "outputs": [],
   "source": [
    "\n"
   ]
  },
  {
   "cell_type": "code",
   "execution_count": 17,
   "metadata": {},
   "outputs": [
    {
     "name": "stdout",
     "output_type": "stream",
     "text": [
      "Sharpe ratio: 0.05\n"
     ]
    }
   ],
   "source": [
    "import pandas as pd\n",
    "\n",
    "# Example: Creating DataFrames with cumulative returns\n",
    "strategy_returns = pd.Series([0.01, 0.02, -0.01, 0.03, -0.02])\n",
    "spy_returns = pd.Series([0.015, 0.018, -0.012, 0.02, -0.015])\n",
    "\n",
    "# Calculate cumulative returns\n",
    "cumulative_strategy_returns = (1 + strategy_returns).cumprod() - 1\n",
    "cumulative_spy_returns = (1 + spy_returns).cumprod() - 1\n",
    "\n",
    "# Calculate the standard deviation of strategy returns\n",
    "strategy_std = cumulative_strategy_returns.std()\n",
    "\n",
    "# Calculate the Sharpe ratio\n",
    "sharpe_ratio = (cumulative_strategy_returns - cumulative_spy_returns) / strategy_std\n",
    "\n",
    "# Calculate the mean of the Sharpe ratio\n",
    "sharpe_mean = sharpe_ratio.mean()\n",
    "\n",
    "print('Sharpe ratio: %.2f' % sharpe_mean)\n"
   ]
  },
  {
   "cell_type": "code",
   "execution_count": 18,
   "metadata": {},
   "outputs": [],
   "source": [
    "model = knn.fit(X_train, Y_train)\n",
    " #model = model.fit (X_train,Y_train)"
   ]
  },
  {
   "cell_type": "code",
   "execution_count": 19,
   "metadata": {},
   "outputs": [
    {
     "name": "stdout",
     "output_type": "stream",
     "text": [
      "[[1.         0.        ]\n",
      " [0.2        0.8       ]\n",
      " [0.73333333 0.26666667]\n",
      " [0.8        0.2       ]\n",
      " [0.         1.        ]\n",
      " [0.13333333 0.86666667]\n",
      " [0.53333333 0.46666667]\n",
      " [1.         0.        ]\n",
      " [0.73333333 0.26666667]\n",
      " [0.8        0.2       ]\n",
      " [0.13333333 0.86666667]\n",
      " [1.         0.        ]\n",
      " [0.73333333 0.26666667]\n",
      " [0.4        0.6       ]\n",
      " [0.13333333 0.86666667]\n",
      " [1.         0.        ]\n",
      " [0.93333333 0.06666667]\n",
      " [0.2        0.8       ]\n",
      " [1.         0.        ]\n",
      " [0.53333333 0.46666667]\n",
      " [0.93333333 0.06666667]\n",
      " [0.13333333 0.86666667]\n",
      " [0.46666667 0.53333333]\n",
      " [1.         0.        ]\n",
      " [0.73333333 0.26666667]\n",
      " [1.         0.        ]]\n"
     ]
    }
   ],
   "source": [
    "probability = model.predict_proba(X_test)\n",
    "print(probability)"
   ]
  },
  {
   "cell_type": "code",
   "execution_count": 20,
   "metadata": {},
   "outputs": [
    {
     "data": {
      "text/plain": [
       "array([-1,  1, -1, -1,  1,  1,  1, -1, -1, -1,  1, -1, -1,  1, -1, -1, -1,\n",
       "        1, -1, -1, -1,  1,  1, -1, -1, -1])"
      ]
     },
     "execution_count": 20,
     "metadata": {},
     "output_type": "execute_result"
    }
   ],
   "source": [
    "Y_test"
   ]
  },
  {
   "cell_type": "code",
   "execution_count": 21,
   "metadata": {},
   "outputs": [
    {
     "data": {
      "text/plain": [
       "array([-1,  1, -1, -1,  1,  1, -1, -1, -1, -1,  1, -1, -1,  1,  1, -1, -1,\n",
       "        1, -1, -1, -1,  1,  1, -1, -1, -1])"
      ]
     },
     "execution_count": 21,
     "metadata": {},
     "output_type": "execute_result"
    }
   ],
   "source": [
    "predicted = model.predict(X_test)\n",
    "predicted"
   ]
  },
  {
   "cell_type": "code",
   "execution_count": 23,
   "metadata": {},
   "outputs": [],
   "source": [
    "from sklearn import metrics"
   ]
  },
  {
   "cell_type": "code",
   "execution_count": 37,
   "metadata": {},
   "outputs": [
    {
     "name": "stdout",
     "output_type": "stream",
     "text": [
      "[[ 6  1]\n",
      " [ 2 11]]\n"
     ]
    }
   ],
   "source": [
    "print(metrics.confusion_matrix(predicted,Y_test))"
   ]
  },
  {
   "cell_type": "code",
   "execution_count": 24,
   "metadata": {},
   "outputs": [
    {
     "name": "stdout",
     "output_type": "stream",
     "text": [
      "              precision    recall  f1-score   support\n",
      "\n",
      "          -1       0.94      0.94      0.94        17\n",
      "           1       0.89      0.89      0.89         9\n",
      "\n",
      "    accuracy                           0.92        26\n",
      "   macro avg       0.92      0.92      0.92        26\n",
      "weighted avg       0.92      0.92      0.92        26\n",
      "\n"
     ]
    }
   ],
   "source": [
    "print(metrics.classification_report(Y_test, predicted))"
   ]
  },
  {
   "cell_type": "code",
   "execution_count": 25,
   "metadata": {},
   "outputs": [
    {
     "name": "stdout",
     "output_type": "stream",
     "text": [
      "              precision    recall  f1-score   support\n",
      "\n",
      "          -1       0.94      0.94      0.94        17\n",
      "           1       0.89      0.89      0.89         9\n",
      "\n",
      "    accuracy                           0.92        26\n",
      "   macro avg       0.92      0.92      0.92        26\n",
      "weighted avg       0.92      0.92      0.92        26\n",
      "\n"
     ]
    }
   ],
   "source": [
    "print(metrics.classification_report(predicted,Y_test))"
   ]
  },
  {
   "cell_type": "code",
   "execution_count": 26,
   "metadata": {},
   "outputs": [
    {
     "data": {
      "text/plain": [
       "0.9230769230769231"
      ]
     },
     "execution_count": 26,
     "metadata": {},
     "output_type": "execute_result"
    }
   ],
   "source": [
    "accuracy_score(predicted,Y_test)"
   ]
  },
  {
   "cell_type": "code",
   "execution_count": null,
   "metadata": {},
   "outputs": [],
   "source": []
  },
  {
   "cell_type": "code",
   "execution_count": null,
   "metadata": {},
   "outputs": [],
   "source": []
  },
  {
   "cell_type": "markdown",
   "metadata": {},
   "source": [
    "### ACCURACY OF TRAINING MODEL FOR INFOSYS STOCK MARKET PRICE PREDICTION IS ABOUT 85%."
   ]
  },
  {
   "cell_type": "code",
   "execution_count": null,
   "metadata": {},
   "outputs": [],
   "source": []
  }
 ],
 "metadata": {
  "kernelspec": {
   "display_name": "Python 3 (ipykernel)",
   "language": "python",
   "name": "python3"
  },
  "language_info": {
   "codemirror_mode": {
    "name": "ipython",
    "version": 3
   },
   "file_extension": ".py",
   "mimetype": "text/x-python",
   "name": "python",
   "nbconvert_exporter": "python",
   "pygments_lexer": "ipython3",
   "version": "3.11.4"
  }
 },
 "nbformat": 4,
 "nbformat_minor": 2
}
